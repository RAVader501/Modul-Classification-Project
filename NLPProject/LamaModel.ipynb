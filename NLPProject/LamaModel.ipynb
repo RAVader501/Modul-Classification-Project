{
 "cells": [
  {
   "cell_type": "code",
   "execution_count": 71,
   "id": "e7dcefdb",
   "metadata": {
    "scrolled": false
   },
   "outputs": [
    {
     "name": "stdout",
     "output_type": "stream",
     "text": [
      "Requirement already satisfied: pydantic==1.10.5 in c:\\users\\vader\\anaconda3\\lib\\site-packages (1.10.5)\n",
      "Requirement already satisfied: typing-extensions>=4.2.0 in c:\\users\\vader\\anaconda3\\lib\\site-packages (from pydantic==1.10.5) (4.7.1)\n",
      "Requirement already satisfied: gradientai in c:\\users\\vader\\anaconda3\\lib\\site-packages (1.5.0)\n",
      "Requirement already satisfied: aenum>=3.1.11 in c:\\users\\vader\\anaconda3\\lib\\site-packages (from gradientai) (3.1.15)\n",
      "Requirement already satisfied: pydantic<2.0.0,>=1.10.5 in c:\\users\\vader\\anaconda3\\lib\\site-packages (from gradientai) (1.10.5)\n",
      "Requirement already satisfied: python-dateutil>=2.8.2 in c:\\users\\vader\\anaconda3\\lib\\site-packages (from gradientai) (2.8.2)\n",
      "Requirement already satisfied: urllib3>=1.25.3 in c:\\users\\vader\\anaconda3\\lib\\site-packages (from gradientai) (1.26.16)\n",
      "Requirement already satisfied: typing-extensions>=4.2.0 in c:\\users\\vader\\anaconda3\\lib\\site-packages (from pydantic<2.0.0,>=1.10.5->gradientai) (4.7.1)\n",
      "Requirement already satisfied: six>=1.5 in c:\\users\\vader\\anaconda3\\lib\\site-packages (from python-dateutil>=2.8.2->gradientai) (1.16.0)\n"
     ]
    }
   ],
   "source": [
    "#Installing requied packages and versions\n",
    "\n",
    "!pip install pydantic==1.10.5\n",
    "!pip install gradientai --upgrade"
   ]
  },
  {
   "cell_type": "code",
   "execution_count": 72,
   "id": "346d34f4",
   "metadata": {
    "scrolled": false
   },
   "outputs": [],
   "source": [
    "import os\n",
    "import pandas as pd\n",
    "import json\n",
    "\n",
    "#Connecting with Project's Gradient Workplace\n",
    "os.environ['GRADIENT_ACCESS_TOKEN'] = \"0JBggvvXEL3jdLsSwqNH8DlAuMl0XguB\"\n",
    "os.environ['GRADIENT_WORKSPACE_ID'] = \"84cac885-e8e9-46d1-a2b3-d12fa07e777c_workspace\""
   ]
  },
  {
   "cell_type": "code",
   "execution_count": 74,
   "id": "628d0820",
   "metadata": {
    "scrolled": true
   },
   "outputs": [
    {
     "name": "stdout",
     "output_type": "stream",
     "text": [
      "Created model adapter with id d531c5f6-fc30-4322-8e0e-73a6a157d824_model_adapter\n",
      "Generated (before fine-tune):  Die SDG-Labels, die in diesem Universitätsmodul: Webtechnologien, gemäß der Beschreibung genannt werden können, sind:\n",
      "- SDG 9: Industrie, Innovation und Infrastruktur - durch die Erlernung der Webtechnologien und der Entwicklung von Webanwendungen\n",
      "- SDG 17: Partnerschaften für die Ziele - durch die Zusammenarbeit und Kooperation zwischen Studierenden in der\n"
     ]
    }
   ],
   "source": [
    "from gradientai import Gradient\n",
    "\n",
    "with Gradient() as gradient:\n",
    "    #Choosing our Model\n",
    "    base_model = gradient.get_base_model(base_model_slug=\"nous-hermes2\")\n",
    "\n",
    "    #Naming it\n",
    "    new_model_adapter = base_model.create_model_adapter(\n",
    "        name=\"sdgclassifier\"\n",
    "    )\n",
    "    \n",
    "    #Getting the model id, for later model usage\n",
    "    print(f\"Created model adapter with id {new_model_adapter.id}\")\n",
    "    \n",
    "    #Testing the model before finetunning\n",
    "    samplequery = \"### Instructions: Bitte geben Sie mir die Nummer-ID der SDG-Labels an, die in diesem Universitätsmodul: Webtechnologien, gemäß dieser Beschreibung genannt werden können: Studierende, die dieses Modul erfolgreich abschließen, haben einen Überblick über die grundlegenden Technologien des World Wide Web (WWW) und deren Anwendung. Sie haben Kenntnisse von der Funktionsweise des WWW als Overlay Netz im Internet sowie der zugrunde liegenden Kommunikationsinfrastrukturen und deren Protokolle. Darüber hinaus können sie die verschiedenen Generationen des WWW und die gegenwärtigen sowie zukünftigen Entwicklungen benennen.  Studierende sind in der Lage Webinhalte semantisch zu strukturieren, zu gestalten und miteinander zu verlinken. Es ist ihnen möglich dynamische Webseiten zu erstellen. Weiterhin lernen sie server-seitige Anwendungen zu programmieren und diese mit dem Front-End über Schnittstellen zu verbinden. Das Modul gliedert sich wie folgt: - Grundlagen - Die Hauptbestandteile des WWW und seine evolutionäre Entwicklung während der letzten Jahrzehnte - Webpages - Die Strukturierung und Gestaltung von Web-Inhalten mit HTML und CSS - Webanwendungen - Ein Überblick über JavaScript, das DOM und AJAX - Architektur und Kommunikation - Die Grundlagen des OSI-Modells mit der Betrachtung des IP-, TCP-, UDP- und HTTP-Protokolls sowie die Erklärung des REST Architekturstils - Server-seitige Anwendungen - Erstellung von Backend-Applikationen mit Node.js - Ausgewählte APIs und Frameworks Diese Inhalte werden in der Vorlesung vermittelt und in Übungsgruppen vertieft. \\n\\n### Response:\"\n",
    "    completion = new_model_adapter.complete(query=samplequery, max_generated_token_count=100).generated_output\n",
    "    print(f\"Generated (before fine-tune): {completion}\")"
   ]
  },
  {
   "cell_type": "code",
   "execution_count": 75,
   "id": "d6e93e75",
   "metadata": {
    "scrolled": true
   },
   "outputs": [],
   "source": [
    "# Getting the Data and formating it for proper query format\n",
    "df = pd.read_csv('German_cleaned_combined2.csv', quotechar='\"')\n",
    "df.replace('[^a-zA-Z0-9\\s]', '', regex=True, inplace=True)\n",
    "# Combine selected columns of each row into one text\n",
    "df['sample'] = df.apply(lambda row: '<s>### Instruction:\\nBitte geben Sie mir nur die Nummer-ID der SDG-Labels an, die in diesem Universitaetsmodul ' + row[0] + ', gemaess dieser Beschreibung genannt werden koennen ' + row[2] + '?\\n\\n### Response:\\n' + row[1] + ' </s>', axis=1)\n",
    "# Convert the DataFrame to JSON\n",
    "json_data = df['sample'].to_dict()\n",
    "json_data = [{\"inputs\": item} for item in json_data.values()]\n",
    "\n",
    "with open('data2.json', 'w') as f:\n",
    "    json.dump(json_data, f)\n"
   ]
  },
  {
   "cell_type": "code",
   "execution_count": 76,
   "id": "d0d00098",
   "metadata": {},
   "outputs": [
    {
     "name": "stdout",
     "output_type": "stream",
     "text": [
      "Training set length: 318\n",
      "Validation set length: 80\n"
     ]
    }
   ],
   "source": [
    "#This is an old cold for older way of validating the results, still used in order to split the data\n",
    "from sklearn.model_selection import train_test_split\n",
    "\n",
    "samples = json_data\n",
    "# Split json_data into training and validation sets\n",
    "train_data, val_data = train_test_split(json_data, test_size=0.2, random_state=42)\n",
    "\n",
    "# Print the lengths of the training and validation sets\n",
    "print(f\"Training set length: {len(train_data)}\")\n",
    "print(f\"Validation set length: {len(val_data)}\")"
   ]
  },
  {
   "cell_type": "code",
   "execution_count": 81,
   "id": "a0244b68",
   "metadata": {
    "scrolled": true
   },
   "outputs": [
    {
     "name": "stdout",
     "output_type": "stream",
     "text": [
      "Fine-tuning the model, iteration 1\n",
      "Fine-tuning the model, iteration 2\n",
      "Fine-tuning the model, iteration 3\n"
     ]
    }
   ],
   "source": [
    "import random\n",
    "\n",
    "#Spliting the Data into mini-batches to improve connection with the model server\n",
    "mini_batches = [train_data[i:i+10] for i in range(0, len(train_data), 10)]\n",
    "\n",
    "# Fine-tuning the model for set number of epochs, using random rows from our Data\n",
    "num_epochs = 3\n",
    "count = 0\n",
    "while count < num_epochs:\n",
    "    random_mini_batch = random.choice(mini_batches)\n",
    "    print(f\"Fine-tuning the model, iteration {count + 1}\")\n",
    "    new_model_adapter.fine_tune(samples=random_mini_batch)\n",
    "    count = count + 1"
   ]
  },
  {
   "cell_type": "code",
   "execution_count": 82,
   "id": "703451b9",
   "metadata": {
    "scrolled": true
   },
   "outputs": [
    {
     "name": "stdout",
     "output_type": "stream",
     "text": [
      "Generated (after fine-tune): 4 9 16 \n"
     ]
    }
   ],
   "source": [
    "#Test query after fine-tuning\n",
    "\n",
    "sample_query = \"### Instructions: Bitte geben Sie mir nur die Nummer-ID der SDG-Labels an, die in diesem Universitätsmodul: Webtechnologien, gemäß dieser Beschreibung genannt werden können: Studierende, die dieses Modul erfolgreich abschließen, haben einen Überblick über die grundlegenden Technologien des World Wide Web (WWW) und deren Anwendung. Sie haben Kenntnisse von der Funktionsweise des WWW als Overlay Netz im Internet sowie der zugrunde liegenden Kommunikationsinfrastrukturen und deren Protokolle. Darüber hinaus können sie die verschiedenen Generationen des WWW und die gegenwärtigen sowie zukünftigen Entwicklungen benennen.  Studierende sind in der Lage Webinhalte semantisch zu strukturieren, zu gestalten und miteinander zu verlinken. Es ist ihnen möglich dynamische Webseiten zu erstellen. Weiterhin lernen sie server-seitige Anwendungen zu programmieren und diese mit dem Front-End über Schnittstellen zu verbinden. Das Modul gliedert sich wie folgt: - Grundlagen - Die Hauptbestandteile des WWW und seine evolutionäre Entwicklung während der letzten Jahrzehnte - Webpages - Die Strukturierung und Gestaltung von Web-Inhalten mit HTML und CSS - Webanwendungen - Ein Überblick über JavaScript, das DOM und AJAX - Architektur und Kommunikation - Die Grundlagen des OSI-Modells mit der Betrachtung des IP-, TCP-, UDP- und HTTP-Protokolls sowie die Erklärung des REST Architekturstils - Server-seitige Anwendungen - Erstellung von Backend-Applikationen mit Node.js - Ausgewählte APIs und Frameworks Diese Inhalte werden in der Vorlesung vermittelt und in Übungsgruppen vertieft. \\n\\n### Response:\"\n",
    "completion = new_model_adapter.complete(query=sample_query, max_generated_token_count=100).generated_output\n",
    "print(f\"Generated (after fine-tune): {completion}\")\n"
   ]
  },
  {
   "cell_type": "code",
   "execution_count": 83,
   "id": "d3984ad5",
   "metadata": {},
   "outputs": [
    {
     "name": "stdout",
     "output_type": "stream",
     "text": [
      "Expected: 7 9 11 13 Actual:4 9 16 \n",
      "Expected: 4 9 Actual:4 9 16 \n",
      "Expected: 4 9 Actual:4 9 16 \n",
      "Expected: 4 9 16 Actual:4 9 16 \n",
      "Expected: 12 Actual:4 9 16 \n",
      "Expected: 4 9 11 Actual:4 9 16 \n",
      "Expected: 4 9 Actual:4 9 16 \n",
      "Expected: 7 9 11 13 Actual:4 9 16 \n",
      "Expected: 4 9 12 Actual:4 9 16 \n",
      "Expected: 4 9 11 Actual:4 9 16 \n",
      "Accuracy: 10.0%\n"
     ]
    }
   ],
   "source": [
    "#Testing the model and checking it accuracy\n",
    "test_count = 0\n",
    "correct_class = 0\n",
    "\n",
    "numberOfTests = 10\n",
    "while test_count < numberOfTests:\n",
    "    df = pd.read_csv('German_cleaned_combined2.csv', quotechar='\"')\n",
    "    random_row = df.sample(n=1)\n",
    "    random_row.replace('[^a-zA-Z0-9\\s]', '', regex=True, inplace=True)\n",
    "    expected_results = random_row.iloc[0, 1]\n",
    "    \n",
    "    # Combine selected columns of each row into one text\n",
    "    test_query = '<s>### Instruction:\\nBitte geben Sie mir nur die Nummer-ID der SDG-Labels an, die in diesem Universitaetsmodul ' + random_row.iloc[0, 0] + ', gemaess dieser Beschreibung genannt werden koennen ' + random_row.iloc[0, 2] + '?\\n\\n### Response:'\n",
    "    completion = new_model_adapter.complete(query=sample_query, max_generated_token_count=100).generated_output\n",
    "    if expected_results.replace(\" \", \"\") ==  completion.replace(\" \", \"\"):\n",
    "        correct_class = correct_class + 1\n",
    "    print(\"Expected: \" + expected_results + \" Actual:\" +completion)\n",
    "    test_count = test_count + 1\n",
    "results = correct_class * 100 / numberOfTests\n",
    "print(\"Accuracy: \" + str(results) + \"%\")"
   ]
  },
  {
   "cell_type": "code",
   "execution_count": null,
   "id": "1694fc52",
   "metadata": {},
   "outputs": [],
   "source": []
  }
 ],
 "metadata": {
  "kernelspec": {
   "display_name": "Python 3 (ipykernel)",
   "language": "python",
   "name": "python3"
  },
  "language_info": {
   "codemirror_mode": {
    "name": "ipython",
    "version": 3
   },
   "file_extension": ".py",
   "mimetype": "text/x-python",
   "name": "python",
   "nbconvert_exporter": "python",
   "pygments_lexer": "ipython3",
   "version": "3.11.5"
  }
 },
 "nbformat": 4,
 "nbformat_minor": 5
}
